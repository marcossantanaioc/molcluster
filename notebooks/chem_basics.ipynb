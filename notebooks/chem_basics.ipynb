{
 "cells": [
  {
   "cell_type": "code",
   "execution_count": null,
   "id": "578e8ef7",
   "metadata": {},
   "outputs": [],
   "source": [
    "#| default_exp chem_basics"
   ]
  },
  {
   "cell_type": "code",
   "execution_count": null,
   "id": "59645801",
   "metadata": {},
   "outputs": [],
   "source": [
    "#| export\n",
    "from rdkit import Chem\n",
    "from rdkit.Avalon import pyAvalonTools\n",
    "from rdkit.Chem import AllChem\n",
    "from rdkit.Chem import DataStructs\n",
    "from rdkit.Chem.AllChem import GetMACCSKeysFingerprint, GetMorganFingerprint\n",
    "from rdkit.Chem.Scaffolds import MurckoScaffold"
   ]
  },
  {
   "cell_type": "code",
   "execution_count": null,
   "id": "7cdde5bd",
   "metadata": {},
   "outputs": [],
   "source": [
    "#| export\n",
    "__all__=['Chem','pyAvalonTools','AllChem','DataStructs','GetMACCSKeysFingerprint','GetMorganFingerprint','MurckoScaffold']"
   ]
  },
  {
   "cell_type": "code",
   "execution_count": null,
   "id": "16591947",
   "metadata": {},
   "outputs": [
    {
     "name": "stdout",
     "output_type": "stream",
     "text": [
      "Converted chem_basics.ipynb.\n"
     ]
    }
   ],
   "source": [
    "#| hide\n",
    "from nbdev import nbdev_export\n",
    "nbdev_export()"
   ]
  },
  {
   "cell_type": "code",
   "execution_count": null,
   "id": "9c9df784",
   "metadata": {},
   "outputs": [],
   "source": []
  }
 ],
 "metadata": {
  "kernelspec": {
   "display_name": "Python 3 (ipykernel)",
   "language": "python",
   "name": "python3"
  }
 },
 "nbformat": 4,
 "nbformat_minor": 5
}
