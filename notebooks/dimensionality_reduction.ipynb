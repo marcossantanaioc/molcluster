{
 "cells": [
  {
   "cell_type": "code",
   "execution_count": null,
   "id": "2703af21",
   "metadata": {},
   "outputs": [],
   "source": [
    "#| default_exp unsupervised_learning.transform"
   ]
  },
  {
   "cell_type": "code",
   "execution_count": null,
   "id": "b5bfa24d",
   "metadata": {},
   "outputs": [],
   "source": [
    "#|hide\n",
    "%load_ext autoreload\n",
    "%autoreload 2"
   ]
  },
  {
   "cell_type": "markdown",
   "id": "b4364876",
   "metadata": {},
   "source": [
    "# dimensionality_reduction\n",
    "\n",
    "> Contains classes to perform dimensionality reduction, including UMAP and PCA."
   ]
  },
  {
   "cell_type": "code",
   "execution_count": null,
   "id": "278faa35",
   "metadata": {},
   "outputs": [
    {
     "name": "stderr",
     "output_type": "stream",
     "text": [
      "2022-08-26 17:18:43.461625: W tensorflow/stream_executor/platform/default/dso_loader.cc:64] Could not load dynamic library 'libcudart.so.11.0'; dlerror: libcudart.so.11.0: cannot open shared object file: No such file or directory; LD_LIBRARY_PATH: /usr/local/nvidia/lib:/usr/local/nvidia/lib64\n",
      "2022-08-26 17:18:43.461681: I tensorflow/stream_executor/cuda/cudart_stub.cc:29] Ignore above cudart dlerror if you do not have a GPU set up on your machine.\n"
     ]
    }
   ],
   "source": [
    "#| export\n",
    "from collections import defaultdict\n",
    "from fastcore.basics import *\n",
    "from fastcore.foundation import *\n",
    "from fastcore.meta import *\n",
    "from typing import Collection, List, Tuple\n",
    "from umap import UMAP\n",
    "from sklearn.decomposition import PCA\n",
    "import numpy as np\n",
    "import matplotlib.pyplot as plt\n",
    "import seaborn as sns"
   ]
  },
  {
   "cell_type": "code",
   "execution_count": null,
   "id": "b152def9-5659-448a-8b88-cb5a037ced52",
   "metadata": {},
   "outputs": [],
   "source": [
    "#|hide\n",
    "from nbdev.showdoc import show_doc"
   ]
  },
  {
   "cell_type": "code",
   "execution_count": null,
   "id": "2a5ce114",
   "metadata": {},
   "outputs": [],
   "source": [
    "#| export\n",
    "class BaseTransform:\n",
    "    \"\"\"Base class to perform dimensionality reduction on a dataset. \"\"\"\n",
    "    \n",
    "    def __init__(self):\n",
    "        pass\n",
    "\n",
    "    @property\n",
    "    def reducer(self):\n",
    "        return self._reducer\n",
    "    \n",
    "    @reducer.setter\n",
    "    def reducer(self, i):\n",
    "        self._reducer = i\n",
    "\n",
    "class UMAPTransform(BaseTransform):\n",
    "    \"\"\"Calculate UMAP embeddings\"\"\"\n",
    "    \n",
    "    def __init__(self, dataset : np.array):\n",
    "        self.dataset = dataset\n",
    "            \n",
    "    def reduce(self, n_neighbors:int=30, min_dist:float=0.5, **kwargs):\n",
    "        \"\"\"Performs dimensionality reduction on a dataset using UMAP\n",
    "        \n",
    "        Parameters:\n",
    "        \n",
    "        n_neighbors: float (optional, default=30)\n",
    "            The size of local neighborhood (in terms of number of neighboring\n",
    "            sample points) used for manifold approximation. Larger values\n",
    "            result in more global views of the manifold, while smaller\n",
    "            values result in more local data being preserved. In general\n",
    "            values should be in the range 2 to 100.\n",
    "   \n",
    "        min_dist: int (optional, default=0.5)\n",
    "            The effective minimum distance between embedded points. Smaller values\n",
    "            will result in a more clustered/clumped embedding where nearby points\n",
    "            on the manifold are drawn closer together, while larger values will\n",
    "            result on a more even dispersal of points. The value should be set\n",
    "            relative to the ``spread`` value, which determines the scale at which\n",
    "            embedded points will be spread out.\n",
    "            \n",
    "            Keyword arguments:\n",
    "        \n",
    "                See UMAP documentation for the complete list of arguments (https://umap-learn.readthedocs.io/en/latest/parameters.html)        \n",
    "        \"\"\"\n",
    "\n",
    "        \n",
    "        reducer = UMAP(n_neighbors=n_neighbors, min_dist=min_dist, **kwargs)\n",
    "        embeddings = reducer.fit_transform(self.dataset)\n",
    "        \n",
    "        self._reducer = reducer\n",
    "        return embeddings\n",
    "\n",
    "class PCATransform(BaseTransform):\n",
    "    \"\"\"Calculate UMAP embeddings\"\"\"\n",
    "    \n",
    "    def __init__(self, dataset : np.array):\n",
    "        self.dataset = dataset\n",
    "            \n",
    "    def reduce(self, n_components=None, **kwargs):\n",
    "        \"\"\"Performs dimensionality reduction on a dataset using Principal Component Analysis (PCA)\n",
    "        \n",
    "        Parameters:\n",
    "        \n",
    "            n_components : int, float or 'mle', default=None\n",
    "                Number of components to keep.\n",
    "                if n_components is not set all components are kept::\n",
    "                    n_components == min(n_samples, n_features)\n",
    "                If ``n_components == 'mle'`` and ``svd_solver == 'full'``, Minka's\n",
    "                MLE is used to guess the dimension. Use of ``n_components == 'mle'``\n",
    "                will interpret ``svd_solver == 'auto'`` as ``svd_solver == 'full'``.\n",
    "                If ``0 < n_components < 1`` and ``svd_solver == 'full'``, select the\n",
    "                number of components such that the amount of variance that needs to be\n",
    "                explained is greater than the percentage specified by n_components.\n",
    "                If ``svd_solver == 'arpack'``, the number of components must be\n",
    "                strictly less than the minimum of n_features and n_samples.\n",
    "                Hence, the None case results in:\n",
    "                \n",
    "            n_components == min(n_samples, n_features) - 1\n",
    "            \n",
    "            Keyword arguments:\n",
    "        \n",
    "                See PCA documentation for the complete list of arguments (https://scikit-learn.org/stable/modules/generated/sklearn.decomposition.PCA.html)        \n",
    "        \"\"\"\n",
    "\n",
    "        \n",
    "        reducer = PCA(n_components=n_components, **kwargs)\n",
    "        embeddings = reducer.fit_transform(self.dataset)\n",
    "        \n",
    "        self._reducer = reducer\n",
    "        return embeddings\n"
   ]
  },
  {
   "cell_type": "code",
   "execution_count": null,
   "id": "5505fd21-c25b-4972-8518-cf112adcbf28",
   "metadata": {},
   "outputs": [
    {
     "data": {
      "text/markdown": [
       "---\n",
       "\n",
       "### BaseTransform\n",
       "\n",
       ">      BaseTransform ()\n",
       "\n",
       "Base class to perform dimensionality reduction on a dataset. "
      ],
      "text/plain": [
       "<nbdev.showdoc.BasicMarkdownRenderer>"
      ]
     },
     "execution_count": null,
     "metadata": {},
     "output_type": "execute_result"
    }
   ],
   "source": [
    "show_doc(BaseTransform)"
   ]
  },
  {
   "cell_type": "code",
   "execution_count": null,
   "id": "df3ec983-f914-4641-b79a-4e76109a0149",
   "metadata": {},
   "outputs": [
    {
     "data": {
      "text/markdown": [
       "---\n",
       "\n",
       "### PCATransform\n",
       "\n",
       ">      PCATransform (dataset:<built-infunctionarray>)\n",
       "\n",
       "Calculate UMAP embeddings"
      ],
      "text/plain": [
       "<nbdev.showdoc.BasicMarkdownRenderer>"
      ]
     },
     "execution_count": null,
     "metadata": {},
     "output_type": "execute_result"
    }
   ],
   "source": [
    "show_doc(PCATransform)"
   ]
  },
  {
   "cell_type": "code",
   "execution_count": null,
   "id": "01544971-4d79-48e1-82b3-5298ea9f043a",
   "metadata": {},
   "outputs": [
    {
     "data": {
      "text/markdown": [
       "---\n",
       "\n",
       "### UMAPTransform\n",
       "\n",
       ">      UMAPTransform (dataset:<built-infunctionarray>)\n",
       "\n",
       "Calculate UMAP embeddings"
      ],
      "text/plain": [
       "<nbdev.showdoc.BasicMarkdownRenderer>"
      ]
     },
     "execution_count": null,
     "metadata": {},
     "output_type": "execute_result"
    }
   ],
   "source": [
    "show_doc(UMAPTransform)"
   ]
  },
  {
   "cell_type": "code",
   "execution_count": null,
   "id": "c6eeb55f",
   "metadata": {},
   "outputs": [],
   "source": [
    "#| hide\n",
    "from nbdev import nbdev_export\n",
    "nbdev_export()"
   ]
  },
  {
   "cell_type": "code",
   "execution_count": null,
   "id": "c2ba5ac5",
   "metadata": {},
   "outputs": [],
   "source": []
  },
  {
   "cell_type": "code",
   "execution_count": null,
   "id": "600d42e0-42b6-4e97-be1d-270fd6cffd1f",
   "metadata": {},
   "outputs": [],
   "source": []
  },
  {
   "cell_type": "code",
   "execution_count": null,
   "id": "2309ea37-2451-4973-9534-062567cd9870",
   "metadata": {},
   "outputs": [],
   "source": []
  }
 ],
 "metadata": {
  "kernelspec": {
   "display_name": "cheminformatics",
   "language": "python",
   "name": "cheminformatics"
  }
 },
 "nbformat": 4,
 "nbformat_minor": 5
}
