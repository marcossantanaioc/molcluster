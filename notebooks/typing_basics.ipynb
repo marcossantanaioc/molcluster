{
 "cells": [
  {
   "cell_type": "code",
   "execution_count": null,
   "id": "b3cfbd03",
   "metadata": {},
   "outputs": [],
   "source": [
    "#| default_exp typing_basics"
   ]
  },
  {
   "cell_type": "code",
   "execution_count": null,
   "id": "7b76284a",
   "metadata": {},
   "outputs": [],
   "source": [
    "#| export\n",
    "\n",
    "from typing import Any, List, Collection, Dict, Set, Sequence, Union, Tuple, Iterator\n",
    "from numpy.typing import ArrayLike"
   ]
  },
  {
   "cell_type": "code",
   "execution_count": null,
   "id": "e956f94f",
   "metadata": {},
   "outputs": [],
   "source": [
    "#| export\n",
    "__all__ = ['ArrayLike', 'Any', 'List', 'Collection', 'Dict', 'Set', 'Sequence', 'Union', 'Tuple', 'Iterator']"
   ]
  },
  {
   "cell_type": "code",
   "execution_count": null,
   "id": "658d7128",
   "metadata": {},
   "outputs": [],
   "source": [
    "#| hide\n",
    "from nbdev import nbdev_export\n",
    "nbdev_export()"
   ]
  },
  {
   "cell_type": "code",
   "execution_count": null,
   "id": "ed0f9c6c",
   "metadata": {},
   "outputs": [],
   "source": []
  }
 ],
 "metadata": {
  "kernelspec": {
   "display_name": "cheminformatics",
   "language": "python",
   "name": "cheminformatics"
  }
 },
 "nbformat": 4,
 "nbformat_minor": 5
}
