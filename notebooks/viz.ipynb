{
 "cells": [
  {
   "cell_type": "code",
   "execution_count": 1,
   "id": "254c4577-a86e-4026-a00c-00b2d53d0b80",
   "metadata": {},
   "outputs": [],
   "source": [
    "#| default_exp viz"
   ]
  },
  {
   "cell_type": "code",
   "execution_count": 2,
   "id": "e3815c77-e57d-443b-8d83-0b3ea867aea5",
   "metadata": {},
   "outputs": [],
   "source": [
    "#|hide\n",
    "%load_ext autoreload\n",
    "%autoreload 2"
   ]
  },
  {
   "cell_type": "code",
   "execution_count": 4,
   "id": "55eceaa4-7ec2-4fca-b01e-8be69ddd77dd",
   "metadata": {},
   "outputs": [],
   "source": [
    "#|export\n",
    "import pandas as pd\n",
    "\n",
    "import numpy as np\n",
    "\n",
    "import matplotlib.pyplot as plt\n",
    "\n",
    "import seaborn as sns"
   ]
  },
  {
   "cell_type": "code",
   "execution_count": 12,
   "id": "ddbed287-211f-48f7-a3ef-45eb5acda347",
   "metadata": {},
   "outputs": [],
   "source": [
    "#|export\n",
    "class ChemVisualiser:\n",
    "    \n",
    "    def __init__(self, data: pd.core.frame.DataFrame, id_col:str, smiles_col: str):\n",
    "        self.data = data\n",
    "        self.id_col = id_col\n",
    "        self.smiles_col = smiles_col\n",
    "        \n",
    "        \n",
    "        \n",
    "    def plot_simple_chemical_space(x: str=None, y: str=None, figsize:tuple=(12,9),color_label=None,cmap='Spectral',**kwargs):\n",
    "        \n",
    "        x = kwargs.get('x',None)\n",
    "        y = kwargs.get('y',None)\n",
    "        xlabel = kwargs.get('xlabel','X')\n",
    "        ylabel = kwargs.get('ylabel','Y')\n",
    "        title = kwargs.get('title',None)\n",
    "        color_label = self.id_col if color_label is None else color_label\n",
    "        \n",
    "        # Set context\n",
    "        sns.set_context('paper',font_scale=2.0)\n",
    "        sns.set_style('whitegrid')\n",
    "        \n",
    "        fig = plt.figure(figsize=figsize)\n",
    "\n",
    "        \n",
    "        ax = sns.scatterplot(data=self.data, x=x,y=y, c=color_label, s=point_size, cmap=cmap,**kwargs)\n",
    "        \n",
    "        ax.set_xlabel(xlabel)\n",
    "        ax.set_ylabel(ylabel)\n",
    "        \n",
    "        sns.despine(right=True,top=True)\n",
    "        \n",
    "        if title:\n",
    "            plt.title(title,fontweight='bold',fontsize=22)\n",
    "        \n",
    "        for i in ax.spines.items():\n",
    "            i[1].set_linewidth(1.5)\n",
    "            i[1].set_color('k')\n",
    "      \n",
    "\n",
    "        plt.tight_layout()\n",
    "        \n",
    "        return fig\n",
    "        \n",
    "\n",
    "#     def plot_chemical_space(self, x: str, y: str, labels: str=None, size: str=None, height:int=200, width:int=100):\n",
    "#         # TODO\n",
    "#         raise NotImplementedError\n",
    "#         # generate a scatter plot\n",
    "#         fig = px.scatter(self.data, x=x, y=y, color=labels,size=size, **kwargs)\n",
    "\n",
    "#         # add molecules to the plotly graph - returns a Dash app\n",
    "#         app = molplotly.add_molecules(fig=fig,\n",
    "#                                     df=self.data,\n",
    "#                                     smiles_col=self.smiles_col,\n",
    "#                                     title_col=id_col)\n",
    "        \n",
    "#         # run Dash app inline in notebook (or in an external server). The plotting height is set to 50 + height (recommended by developers)\n",
    "#         app.run_server(mode='inline', height=50+(height), width=width)\n"
   ]
  },
  {
   "cell_type": "code",
   "execution_count": 15,
   "id": "d28b4423-eee7-4114-af49-4a6d5e30cbc8",
   "metadata": {},
   "outputs": [],
   "source": [
    "#| hide\n",
    "from nbdev import nbdev_export\n",
    "nbdev_export()"
   ]
  },
  {
   "cell_type": "code",
   "execution_count": null,
   "id": "4b827fd6-e23e-4369-a5db-80566274eda2",
   "metadata": {},
   "outputs": [],
   "source": []
  }
 ],
 "metadata": {
  "kernelspec": {
   "display_name": "molcluster",
   "language": "python",
   "name": "molcluster"
  },
  "language_info": {
   "codemirror_mode": {
    "name": "ipython",
    "version": 3
   },
   "file_extension": ".py",
   "mimetype": "text/x-python",
   "name": "python",
   "nbconvert_exporter": "python",
   "pygments_lexer": "ipython3",
   "version": "3.8.13"
  }
 },
 "nbformat": 4,
 "nbformat_minor": 5
}
